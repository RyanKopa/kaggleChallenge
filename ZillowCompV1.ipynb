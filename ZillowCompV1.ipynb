{
 "cells": [
  {
   "cell_type": "code",
   "execution_count": 1,
   "metadata": {
    "collapsed": true
   },
   "outputs": [],
   "source": [
    "import numpy as np\n",
    "import pandas as pd"
   ]
  },
  {
   "cell_type": "code",
   "execution_count": 2,
   "metadata": {
    "collapsed": false
   },
   "outputs": [
    {
     "name": "stderr",
     "output_type": "stream",
     "text": [
      "/home/cjfong/anaconda2/lib/python2.7/site-packages/IPython/core/interactiveshell.py:2717: DtypeWarning: Columns (22,32,34,49,55) have mixed types. Specify dtype option on import or set low_memory=False.\n",
      "  interactivity=interactivity, compiler=compiler, result=result)\n"
     ]
    }
   ],
   "source": [
    "dfTrain = pd.read_csv('properties_2016.csv')"
   ]
  },
  {
   "cell_type": "code",
   "execution_count": 3,
   "metadata": {
    "collapsed": false
   },
   "outputs": [
    {
     "name": "stdout",
     "output_type": "stream",
     "text": [
      "<class 'pandas.core.frame.DataFrame'>\n",
      "RangeIndex: 2985217 entries, 0 to 2985216\n",
      "Data columns (total 58 columns):\n",
      "parcelid                        int64\n",
      "airconditioningtypeid           float64\n",
      "architecturalstyletypeid        float64\n",
      "basementsqft                    float64\n",
      "bathroomcnt                     float64\n",
      "bedroomcnt                      float64\n",
      "buildingclasstypeid             float64\n",
      "buildingqualitytypeid           float64\n",
      "calculatedbathnbr               float64\n",
      "decktypeid                      float64\n",
      "finishedfloor1squarefeet        float64\n",
      "calculatedfinishedsquarefeet    float64\n",
      "finishedsquarefeet12            float64\n",
      "finishedsquarefeet13            float64\n",
      "finishedsquarefeet15            float64\n",
      "finishedsquarefeet50            float64\n",
      "finishedsquarefeet6             float64\n",
      "fips                            float64\n",
      "fireplacecnt                    float64\n",
      "fullbathcnt                     float64\n",
      "garagecarcnt                    float64\n",
      "garagetotalsqft                 float64\n",
      "hashottuborspa                  object\n",
      "heatingorsystemtypeid           float64\n",
      "latitude                        float64\n",
      "longitude                       float64\n",
      "lotsizesquarefeet               float64\n",
      "poolcnt                         float64\n",
      "poolsizesum                     float64\n",
      "pooltypeid10                    float64\n",
      "pooltypeid2                     float64\n",
      "pooltypeid7                     float64\n",
      "propertycountylandusecode       object\n",
      "propertylandusetypeid           float64\n",
      "propertyzoningdesc              object\n",
      "rawcensustractandblock          float64\n",
      "regionidcity                    float64\n",
      "regionidcounty                  float64\n",
      "regionidneighborhood            float64\n",
      "regionidzip                     float64\n",
      "roomcnt                         float64\n",
      "storytypeid                     float64\n",
      "threequarterbathnbr             float64\n",
      "typeconstructiontypeid          float64\n",
      "unitcnt                         float64\n",
      "yardbuildingsqft17              float64\n",
      "yardbuildingsqft26              float64\n",
      "yearbuilt                       float64\n",
      "numberofstories                 float64\n",
      "fireplaceflag                   object\n",
      "structuretaxvaluedollarcnt      float64\n",
      "taxvaluedollarcnt               float64\n",
      "assessmentyear                  float64\n",
      "landtaxvaluedollarcnt           float64\n",
      "taxamount                       float64\n",
      "taxdelinquencyflag              object\n",
      "taxdelinquencyyear              float64\n",
      "censustractandblock             float64\n",
      "dtypes: float64(52), int64(1), object(5)\n",
      "memory usage: 1.3+ GB\n"
     ]
    }
   ],
   "source": [
    "dfTrain.info()"
   ]
  },
  {
   "cell_type": "code",
   "execution_count": 4,
   "metadata": {
    "collapsed": false
   },
   "outputs": [
    {
     "data": {
      "text/html": [
       "<div>\n",
       "<table border=\"1\" class=\"dataframe\">\n",
       "  <thead>\n",
       "    <tr style=\"text-align: right;\">\n",
       "      <th></th>\n",
       "      <th>parcelid</th>\n",
       "      <th>airconditioningtypeid</th>\n",
       "      <th>architecturalstyletypeid</th>\n",
       "      <th>basementsqft</th>\n",
       "      <th>bathroomcnt</th>\n",
       "      <th>bedroomcnt</th>\n",
       "      <th>buildingclasstypeid</th>\n",
       "      <th>buildingqualitytypeid</th>\n",
       "      <th>calculatedbathnbr</th>\n",
       "      <th>decktypeid</th>\n",
       "      <th>...</th>\n",
       "      <th>yardbuildingsqft26</th>\n",
       "      <th>yearbuilt</th>\n",
       "      <th>numberofstories</th>\n",
       "      <th>structuretaxvaluedollarcnt</th>\n",
       "      <th>taxvaluedollarcnt</th>\n",
       "      <th>assessmentyear</th>\n",
       "      <th>landtaxvaluedollarcnt</th>\n",
       "      <th>taxamount</th>\n",
       "      <th>taxdelinquencyyear</th>\n",
       "      <th>censustractandblock</th>\n",
       "    </tr>\n",
       "  </thead>\n",
       "  <tbody>\n",
       "    <tr>\n",
       "      <th>count</th>\n",
       "      <td>2.985217e+06</td>\n",
       "      <td>811519.000000</td>\n",
       "      <td>6061.000000</td>\n",
       "      <td>1628.000000</td>\n",
       "      <td>2.973755e+06</td>\n",
       "      <td>2.973767e+06</td>\n",
       "      <td>12629.000000</td>\n",
       "      <td>1.938488e+06</td>\n",
       "      <td>2.856305e+06</td>\n",
       "      <td>17096.0</td>\n",
       "      <td>...</td>\n",
       "      <td>2647.000000</td>\n",
       "      <td>2.925289e+06</td>\n",
       "      <td>682069.000000</td>\n",
       "      <td>2.930235e+06</td>\n",
       "      <td>2.942667e+06</td>\n",
       "      <td>2.973778e+06</td>\n",
       "      <td>2.917484e+06</td>\n",
       "      <td>2.953967e+06</td>\n",
       "      <td>56464.000000</td>\n",
       "      <td>2.910091e+06</td>\n",
       "    </tr>\n",
       "    <tr>\n",
       "      <th>mean</th>\n",
       "      <td>1.332586e+07</td>\n",
       "      <td>1.931166</td>\n",
       "      <td>7.202607</td>\n",
       "      <td>646.883292</td>\n",
       "      <td>2.209143e+00</td>\n",
       "      <td>3.088949e+00</td>\n",
       "      <td>3.725948</td>\n",
       "      <td>5.784787e+00</td>\n",
       "      <td>2.299263e+00</td>\n",
       "      <td>66.0</td>\n",
       "      <td>...</td>\n",
       "      <td>278.296562</td>\n",
       "      <td>1.964262e+03</td>\n",
       "      <td>1.401464</td>\n",
       "      <td>1.708836e+05</td>\n",
       "      <td>4.204790e+05</td>\n",
       "      <td>2.014999e+03</td>\n",
       "      <td>2.524780e+05</td>\n",
       "      <td>5.377607e+03</td>\n",
       "      <td>13.892409</td>\n",
       "      <td>6.048431e+13</td>\n",
       "    </tr>\n",
       "    <tr>\n",
       "      <th>std</th>\n",
       "      <td>7.909966e+06</td>\n",
       "      <td>3.148587</td>\n",
       "      <td>2.436290</td>\n",
       "      <td>538.793473</td>\n",
       "      <td>1.077754e+00</td>\n",
       "      <td>1.275859e+00</td>\n",
       "      <td>0.501700</td>\n",
       "      <td>1.805352e+00</td>\n",
       "      <td>1.000736e+00</td>\n",
       "      <td>0.0</td>\n",
       "      <td>...</td>\n",
       "      <td>369.731508</td>\n",
       "      <td>2.344132e+01</td>\n",
       "      <td>0.539076</td>\n",
       "      <td>4.020683e+05</td>\n",
       "      <td>7.263467e+05</td>\n",
       "      <td>3.683161e-02</td>\n",
       "      <td>4.450132e+05</td>\n",
       "      <td>9.183107e+03</td>\n",
       "      <td>2.581006</td>\n",
       "      <td>3.249035e+11</td>\n",
       "    </tr>\n",
       "    <tr>\n",
       "      <th>min</th>\n",
       "      <td>1.071172e+07</td>\n",
       "      <td>1.000000</td>\n",
       "      <td>2.000000</td>\n",
       "      <td>20.000000</td>\n",
       "      <td>0.000000e+00</td>\n",
       "      <td>0.000000e+00</td>\n",
       "      <td>1.000000</td>\n",
       "      <td>1.000000e+00</td>\n",
       "      <td>1.000000e+00</td>\n",
       "      <td>66.0</td>\n",
       "      <td>...</td>\n",
       "      <td>10.000000</td>\n",
       "      <td>1.801000e+03</td>\n",
       "      <td>1.000000</td>\n",
       "      <td>1.000000e+00</td>\n",
       "      <td>1.000000e+00</td>\n",
       "      <td>2.000000e+03</td>\n",
       "      <td>1.000000e+00</td>\n",
       "      <td>1.340000e+00</td>\n",
       "      <td>0.000000</td>\n",
       "      <td>-1.000000e+00</td>\n",
       "    </tr>\n",
       "    <tr>\n",
       "      <th>25%</th>\n",
       "      <td>1.164371e+07</td>\n",
       "      <td>1.000000</td>\n",
       "      <td>7.000000</td>\n",
       "      <td>272.000000</td>\n",
       "      <td>2.000000e+00</td>\n",
       "      <td>2.000000e+00</td>\n",
       "      <td>3.000000</td>\n",
       "      <td>4.000000e+00</td>\n",
       "      <td>2.000000e+00</td>\n",
       "      <td>66.0</td>\n",
       "      <td>...</td>\n",
       "      <td>96.000000</td>\n",
       "      <td>1.950000e+03</td>\n",
       "      <td>1.000000</td>\n",
       "      <td>7.480000e+04</td>\n",
       "      <td>1.796750e+05</td>\n",
       "      <td>2.015000e+03</td>\n",
       "      <td>7.483600e+04</td>\n",
       "      <td>2.461070e+03</td>\n",
       "      <td>14.000000</td>\n",
       "      <td>6.037400e+13</td>\n",
       "    </tr>\n",
       "    <tr>\n",
       "      <th>50%</th>\n",
       "      <td>1.254509e+07</td>\n",
       "      <td>1.000000</td>\n",
       "      <td>7.000000</td>\n",
       "      <td>534.000000</td>\n",
       "      <td>2.000000e+00</td>\n",
       "      <td>3.000000e+00</td>\n",
       "      <td>4.000000</td>\n",
       "      <td>7.000000e+00</td>\n",
       "      <td>2.000000e+00</td>\n",
       "      <td>66.0</td>\n",
       "      <td>...</td>\n",
       "      <td>168.000000</td>\n",
       "      <td>1.963000e+03</td>\n",
       "      <td>1.000000</td>\n",
       "      <td>1.225900e+05</td>\n",
       "      <td>3.060860e+05</td>\n",
       "      <td>2.015000e+03</td>\n",
       "      <td>1.670420e+05</td>\n",
       "      <td>3.991780e+03</td>\n",
       "      <td>14.000000</td>\n",
       "      <td>6.037572e+13</td>\n",
       "    </tr>\n",
       "    <tr>\n",
       "      <th>75%</th>\n",
       "      <td>1.409712e+07</td>\n",
       "      <td>1.000000</td>\n",
       "      <td>7.000000</td>\n",
       "      <td>847.250000</td>\n",
       "      <td>3.000000e+00</td>\n",
       "      <td>4.000000e+00</td>\n",
       "      <td>4.000000</td>\n",
       "      <td>7.000000e+00</td>\n",
       "      <td>3.000000e+00</td>\n",
       "      <td>66.0</td>\n",
       "      <td>...</td>\n",
       "      <td>320.000000</td>\n",
       "      <td>1.981000e+03</td>\n",
       "      <td>2.000000</td>\n",
       "      <td>1.968890e+05</td>\n",
       "      <td>4.880000e+05</td>\n",
       "      <td>2.015000e+03</td>\n",
       "      <td>3.069180e+05</td>\n",
       "      <td>6.201005e+03</td>\n",
       "      <td>15.000000</td>\n",
       "      <td>6.059042e+13</td>\n",
       "    </tr>\n",
       "    <tr>\n",
       "      <th>max</th>\n",
       "      <td>1.696019e+08</td>\n",
       "      <td>13.000000</td>\n",
       "      <td>27.000000</td>\n",
       "      <td>8516.000000</td>\n",
       "      <td>2.000000e+01</td>\n",
       "      <td>2.000000e+01</td>\n",
       "      <td>5.000000</td>\n",
       "      <td>1.200000e+01</td>\n",
       "      <td>2.000000e+01</td>\n",
       "      <td>66.0</td>\n",
       "      <td>...</td>\n",
       "      <td>6141.000000</td>\n",
       "      <td>2.015000e+03</td>\n",
       "      <td>41.000000</td>\n",
       "      <td>2.514860e+08</td>\n",
       "      <td>2.827860e+08</td>\n",
       "      <td>2.016000e+03</td>\n",
       "      <td>9.024622e+07</td>\n",
       "      <td>3.458861e+06</td>\n",
       "      <td>99.000000</td>\n",
       "      <td>4.830301e+14</td>\n",
       "    </tr>\n",
       "  </tbody>\n",
       "</table>\n",
       "<p>8 rows × 53 columns</p>\n",
       "</div>"
      ],
      "text/plain": [
       "           parcelid  airconditioningtypeid  architecturalstyletypeid  \\\n",
       "count  2.985217e+06          811519.000000               6061.000000   \n",
       "mean   1.332586e+07               1.931166                  7.202607   \n",
       "std    7.909966e+06               3.148587                  2.436290   \n",
       "min    1.071172e+07               1.000000                  2.000000   \n",
       "25%    1.164371e+07               1.000000                  7.000000   \n",
       "50%    1.254509e+07               1.000000                  7.000000   \n",
       "75%    1.409712e+07               1.000000                  7.000000   \n",
       "max    1.696019e+08              13.000000                 27.000000   \n",
       "\n",
       "       basementsqft   bathroomcnt    bedroomcnt  buildingclasstypeid  \\\n",
       "count   1628.000000  2.973755e+06  2.973767e+06         12629.000000   \n",
       "mean     646.883292  2.209143e+00  3.088949e+00             3.725948   \n",
       "std      538.793473  1.077754e+00  1.275859e+00             0.501700   \n",
       "min       20.000000  0.000000e+00  0.000000e+00             1.000000   \n",
       "25%      272.000000  2.000000e+00  2.000000e+00             3.000000   \n",
       "50%      534.000000  2.000000e+00  3.000000e+00             4.000000   \n",
       "75%      847.250000  3.000000e+00  4.000000e+00             4.000000   \n",
       "max     8516.000000  2.000000e+01  2.000000e+01             5.000000   \n",
       "\n",
       "       buildingqualitytypeid  calculatedbathnbr  decktypeid  \\\n",
       "count           1.938488e+06       2.856305e+06     17096.0   \n",
       "mean            5.784787e+00       2.299263e+00        66.0   \n",
       "std             1.805352e+00       1.000736e+00         0.0   \n",
       "min             1.000000e+00       1.000000e+00        66.0   \n",
       "25%             4.000000e+00       2.000000e+00        66.0   \n",
       "50%             7.000000e+00       2.000000e+00        66.0   \n",
       "75%             7.000000e+00       3.000000e+00        66.0   \n",
       "max             1.200000e+01       2.000000e+01        66.0   \n",
       "\n",
       "              ...           yardbuildingsqft26     yearbuilt  numberofstories  \\\n",
       "count         ...                  2647.000000  2.925289e+06    682069.000000   \n",
       "mean          ...                   278.296562  1.964262e+03         1.401464   \n",
       "std           ...                   369.731508  2.344132e+01         0.539076   \n",
       "min           ...                    10.000000  1.801000e+03         1.000000   \n",
       "25%           ...                    96.000000  1.950000e+03         1.000000   \n",
       "50%           ...                   168.000000  1.963000e+03         1.000000   \n",
       "75%           ...                   320.000000  1.981000e+03         2.000000   \n",
       "max           ...                  6141.000000  2.015000e+03        41.000000   \n",
       "\n",
       "       structuretaxvaluedollarcnt  taxvaluedollarcnt  assessmentyear  \\\n",
       "count                2.930235e+06       2.942667e+06    2.973778e+06   \n",
       "mean                 1.708836e+05       4.204790e+05    2.014999e+03   \n",
       "std                  4.020683e+05       7.263467e+05    3.683161e-02   \n",
       "min                  1.000000e+00       1.000000e+00    2.000000e+03   \n",
       "25%                  7.480000e+04       1.796750e+05    2.015000e+03   \n",
       "50%                  1.225900e+05       3.060860e+05    2.015000e+03   \n",
       "75%                  1.968890e+05       4.880000e+05    2.015000e+03   \n",
       "max                  2.514860e+08       2.827860e+08    2.016000e+03   \n",
       "\n",
       "       landtaxvaluedollarcnt     taxamount  taxdelinquencyyear  \\\n",
       "count           2.917484e+06  2.953967e+06        56464.000000   \n",
       "mean            2.524780e+05  5.377607e+03           13.892409   \n",
       "std             4.450132e+05  9.183107e+03            2.581006   \n",
       "min             1.000000e+00  1.340000e+00            0.000000   \n",
       "25%             7.483600e+04  2.461070e+03           14.000000   \n",
       "50%             1.670420e+05  3.991780e+03           14.000000   \n",
       "75%             3.069180e+05  6.201005e+03           15.000000   \n",
       "max             9.024622e+07  3.458861e+06           99.000000   \n",
       "\n",
       "       censustractandblock  \n",
       "count         2.910091e+06  \n",
       "mean          6.048431e+13  \n",
       "std           3.249035e+11  \n",
       "min          -1.000000e+00  \n",
       "25%           6.037400e+13  \n",
       "50%           6.037572e+13  \n",
       "75%           6.059042e+13  \n",
       "max           4.830301e+14  \n",
       "\n",
       "[8 rows x 53 columns]"
      ]
     },
     "execution_count": 4,
     "metadata": {},
     "output_type": "execute_result"
    }
   ],
   "source": [
    "dfTrain.describe()"
   ]
  },
  {
   "cell_type": "code",
   "execution_count": 5,
   "metadata": {
    "collapsed": false
   },
   "outputs": [
    {
     "data": {
      "text/html": [
       "<div>\n",
       "<table border=\"1\" class=\"dataframe\">\n",
       "  <thead>\n",
       "    <tr style=\"text-align: right;\">\n",
       "      <th></th>\n",
       "      <th>parcelid</th>\n",
       "      <th>airconditioningtypeid</th>\n",
       "      <th>architecturalstyletypeid</th>\n",
       "      <th>basementsqft</th>\n",
       "      <th>bathroomcnt</th>\n",
       "      <th>bedroomcnt</th>\n",
       "      <th>buildingclasstypeid</th>\n",
       "      <th>buildingqualitytypeid</th>\n",
       "      <th>calculatedbathnbr</th>\n",
       "      <th>decktypeid</th>\n",
       "      <th>...</th>\n",
       "      <th>numberofstories</th>\n",
       "      <th>fireplaceflag</th>\n",
       "      <th>structuretaxvaluedollarcnt</th>\n",
       "      <th>taxvaluedollarcnt</th>\n",
       "      <th>assessmentyear</th>\n",
       "      <th>landtaxvaluedollarcnt</th>\n",
       "      <th>taxamount</th>\n",
       "      <th>taxdelinquencyflag</th>\n",
       "      <th>taxdelinquencyyear</th>\n",
       "      <th>censustractandblock</th>\n",
       "    </tr>\n",
       "  </thead>\n",
       "  <tbody>\n",
       "    <tr>\n",
       "      <th>0</th>\n",
       "      <td>10754147</td>\n",
       "      <td>NaN</td>\n",
       "      <td>NaN</td>\n",
       "      <td>NaN</td>\n",
       "      <td>0.0</td>\n",
       "      <td>0.0</td>\n",
       "      <td>NaN</td>\n",
       "      <td>NaN</td>\n",
       "      <td>NaN</td>\n",
       "      <td>NaN</td>\n",
       "      <td>...</td>\n",
       "      <td>NaN</td>\n",
       "      <td>NaN</td>\n",
       "      <td>NaN</td>\n",
       "      <td>9.0</td>\n",
       "      <td>2015.0</td>\n",
       "      <td>9.0</td>\n",
       "      <td>NaN</td>\n",
       "      <td>NaN</td>\n",
       "      <td>NaN</td>\n",
       "      <td>NaN</td>\n",
       "    </tr>\n",
       "  </tbody>\n",
       "</table>\n",
       "<p>1 rows × 58 columns</p>\n",
       "</div>"
      ],
      "text/plain": [
       "   parcelid  airconditioningtypeid  architecturalstyletypeid  basementsqft  \\\n",
       "0  10754147                    NaN                       NaN           NaN   \n",
       "\n",
       "   bathroomcnt  bedroomcnt  buildingclasstypeid  buildingqualitytypeid  \\\n",
       "0          0.0         0.0                  NaN                    NaN   \n",
       "\n",
       "   calculatedbathnbr  decktypeid         ...           numberofstories  \\\n",
       "0                NaN         NaN         ...                       NaN   \n",
       "\n",
       "   fireplaceflag  structuretaxvaluedollarcnt  taxvaluedollarcnt  \\\n",
       "0            NaN                         NaN                9.0   \n",
       "\n",
       "   assessmentyear  landtaxvaluedollarcnt  taxamount  taxdelinquencyflag  \\\n",
       "0          2015.0                    9.0        NaN                 NaN   \n",
       "\n",
       "   taxdelinquencyyear  censustractandblock  \n",
       "0                 NaN                  NaN  \n",
       "\n",
       "[1 rows x 58 columns]"
      ]
     },
     "execution_count": 5,
     "metadata": {},
     "output_type": "execute_result"
    }
   ],
   "source": [
    "dfTrain.head(1)"
   ]
  },
  {
   "cell_type": "code",
   "execution_count": 6,
   "metadata": {
    "collapsed": false
   },
   "outputs": [
    {
     "data": {
      "text/html": [
       "<div>\n",
       "<table border=\"1\" class=\"dataframe\">\n",
       "  <thead>\n",
       "    <tr style=\"text-align: right;\">\n",
       "      <th></th>\n",
       "      <th>parcelid</th>\n",
       "      <th>airconditioningtypeid</th>\n",
       "      <th>architecturalstyletypeid</th>\n",
       "      <th>basementsqft</th>\n",
       "      <th>bathroomcnt</th>\n",
       "      <th>bedroomcnt</th>\n",
       "      <th>buildingclasstypeid</th>\n",
       "      <th>buildingqualitytypeid</th>\n",
       "      <th>calculatedbathnbr</th>\n",
       "      <th>decktypeid</th>\n",
       "      <th>...</th>\n",
       "      <th>numberofstories</th>\n",
       "      <th>fireplaceflag</th>\n",
       "      <th>structuretaxvaluedollarcnt</th>\n",
       "      <th>taxvaluedollarcnt</th>\n",
       "      <th>assessmentyear</th>\n",
       "      <th>landtaxvaluedollarcnt</th>\n",
       "      <th>taxamount</th>\n",
       "      <th>taxdelinquencyflag</th>\n",
       "      <th>taxdelinquencyyear</th>\n",
       "      <th>censustractandblock</th>\n",
       "    </tr>\n",
       "  </thead>\n",
       "  <tbody>\n",
       "    <tr>\n",
       "      <th>2985212</th>\n",
       "      <td>168176230</td>\n",
       "      <td>NaN</td>\n",
       "      <td>NaN</td>\n",
       "      <td>NaN</td>\n",
       "      <td>NaN</td>\n",
       "      <td>NaN</td>\n",
       "      <td>NaN</td>\n",
       "      <td>NaN</td>\n",
       "      <td>NaN</td>\n",
       "      <td>NaN</td>\n",
       "      <td>...</td>\n",
       "      <td>NaN</td>\n",
       "      <td>NaN</td>\n",
       "      <td>NaN</td>\n",
       "      <td>NaN</td>\n",
       "      <td>NaN</td>\n",
       "      <td>NaN</td>\n",
       "      <td>NaN</td>\n",
       "      <td>NaN</td>\n",
       "      <td>NaN</td>\n",
       "      <td>NaN</td>\n",
       "    </tr>\n",
       "    <tr>\n",
       "      <th>2985213</th>\n",
       "      <td>14273630</td>\n",
       "      <td>NaN</td>\n",
       "      <td>NaN</td>\n",
       "      <td>NaN</td>\n",
       "      <td>NaN</td>\n",
       "      <td>NaN</td>\n",
       "      <td>NaN</td>\n",
       "      <td>NaN</td>\n",
       "      <td>NaN</td>\n",
       "      <td>NaN</td>\n",
       "      <td>...</td>\n",
       "      <td>NaN</td>\n",
       "      <td>NaN</td>\n",
       "      <td>NaN</td>\n",
       "      <td>NaN</td>\n",
       "      <td>NaN</td>\n",
       "      <td>NaN</td>\n",
       "      <td>NaN</td>\n",
       "      <td>NaN</td>\n",
       "      <td>NaN</td>\n",
       "      <td>NaN</td>\n",
       "    </tr>\n",
       "    <tr>\n",
       "      <th>2985214</th>\n",
       "      <td>168040630</td>\n",
       "      <td>NaN</td>\n",
       "      <td>NaN</td>\n",
       "      <td>NaN</td>\n",
       "      <td>NaN</td>\n",
       "      <td>NaN</td>\n",
       "      <td>NaN</td>\n",
       "      <td>NaN</td>\n",
       "      <td>NaN</td>\n",
       "      <td>NaN</td>\n",
       "      <td>...</td>\n",
       "      <td>NaN</td>\n",
       "      <td>NaN</td>\n",
       "      <td>NaN</td>\n",
       "      <td>NaN</td>\n",
       "      <td>NaN</td>\n",
       "      <td>NaN</td>\n",
       "      <td>NaN</td>\n",
       "      <td>NaN</td>\n",
       "      <td>NaN</td>\n",
       "      <td>NaN</td>\n",
       "    </tr>\n",
       "    <tr>\n",
       "      <th>2985215</th>\n",
       "      <td>168040830</td>\n",
       "      <td>NaN</td>\n",
       "      <td>NaN</td>\n",
       "      <td>NaN</td>\n",
       "      <td>NaN</td>\n",
       "      <td>NaN</td>\n",
       "      <td>NaN</td>\n",
       "      <td>NaN</td>\n",
       "      <td>NaN</td>\n",
       "      <td>NaN</td>\n",
       "      <td>...</td>\n",
       "      <td>NaN</td>\n",
       "      <td>NaN</td>\n",
       "      <td>NaN</td>\n",
       "      <td>NaN</td>\n",
       "      <td>NaN</td>\n",
       "      <td>NaN</td>\n",
       "      <td>NaN</td>\n",
       "      <td>NaN</td>\n",
       "      <td>NaN</td>\n",
       "      <td>NaN</td>\n",
       "    </tr>\n",
       "    <tr>\n",
       "      <th>2985216</th>\n",
       "      <td>168040430</td>\n",
       "      <td>NaN</td>\n",
       "      <td>NaN</td>\n",
       "      <td>NaN</td>\n",
       "      <td>NaN</td>\n",
       "      <td>NaN</td>\n",
       "      <td>NaN</td>\n",
       "      <td>NaN</td>\n",
       "      <td>NaN</td>\n",
       "      <td>NaN</td>\n",
       "      <td>...</td>\n",
       "      <td>NaN</td>\n",
       "      <td>NaN</td>\n",
       "      <td>NaN</td>\n",
       "      <td>NaN</td>\n",
       "      <td>NaN</td>\n",
       "      <td>NaN</td>\n",
       "      <td>NaN</td>\n",
       "      <td>NaN</td>\n",
       "      <td>NaN</td>\n",
       "      <td>NaN</td>\n",
       "    </tr>\n",
       "  </tbody>\n",
       "</table>\n",
       "<p>5 rows × 58 columns</p>\n",
       "</div>"
      ],
      "text/plain": [
       "          parcelid  airconditioningtypeid  architecturalstyletypeid  \\\n",
       "2985212  168176230                    NaN                       NaN   \n",
       "2985213   14273630                    NaN                       NaN   \n",
       "2985214  168040630                    NaN                       NaN   \n",
       "2985215  168040830                    NaN                       NaN   \n",
       "2985216  168040430                    NaN                       NaN   \n",
       "\n",
       "         basementsqft  bathroomcnt  bedroomcnt  buildingclasstypeid  \\\n",
       "2985212           NaN          NaN         NaN                  NaN   \n",
       "2985213           NaN          NaN         NaN                  NaN   \n",
       "2985214           NaN          NaN         NaN                  NaN   \n",
       "2985215           NaN          NaN         NaN                  NaN   \n",
       "2985216           NaN          NaN         NaN                  NaN   \n",
       "\n",
       "         buildingqualitytypeid  calculatedbathnbr  decktypeid  \\\n",
       "2985212                    NaN                NaN         NaN   \n",
       "2985213                    NaN                NaN         NaN   \n",
       "2985214                    NaN                NaN         NaN   \n",
       "2985215                    NaN                NaN         NaN   \n",
       "2985216                    NaN                NaN         NaN   \n",
       "\n",
       "                ...           numberofstories  fireplaceflag  \\\n",
       "2985212         ...                       NaN            NaN   \n",
       "2985213         ...                       NaN            NaN   \n",
       "2985214         ...                       NaN            NaN   \n",
       "2985215         ...                       NaN            NaN   \n",
       "2985216         ...                       NaN            NaN   \n",
       "\n",
       "         structuretaxvaluedollarcnt  taxvaluedollarcnt  assessmentyear  \\\n",
       "2985212                         NaN                NaN             NaN   \n",
       "2985213                         NaN                NaN             NaN   \n",
       "2985214                         NaN                NaN             NaN   \n",
       "2985215                         NaN                NaN             NaN   \n",
       "2985216                         NaN                NaN             NaN   \n",
       "\n",
       "         landtaxvaluedollarcnt  taxamount  taxdelinquencyflag  \\\n",
       "2985212                    NaN        NaN                 NaN   \n",
       "2985213                    NaN        NaN                 NaN   \n",
       "2985214                    NaN        NaN                 NaN   \n",
       "2985215                    NaN        NaN                 NaN   \n",
       "2985216                    NaN        NaN                 NaN   \n",
       "\n",
       "         taxdelinquencyyear  censustractandblock  \n",
       "2985212                 NaN                  NaN  \n",
       "2985213                 NaN                  NaN  \n",
       "2985214                 NaN                  NaN  \n",
       "2985215                 NaN                  NaN  \n",
       "2985216                 NaN                  NaN  \n",
       "\n",
       "[5 rows x 58 columns]"
      ]
     },
     "execution_count": 6,
     "metadata": {},
     "output_type": "execute_result"
    }
   ],
   "source": [
    "dfTrain.tail()"
   ]
  },
  {
   "cell_type": "code",
   "execution_count": 10,
   "metadata": {
    "collapsed": true
   },
   "outputs": [],
   "source": [
    "dfTrain2 = pd.read_csv('train_2016.csv')"
   ]
  },
  {
   "cell_type": "code",
   "execution_count": 11,
   "metadata": {
    "collapsed": false
   },
   "outputs": [
    {
     "name": "stdout",
     "output_type": "stream",
     "text": [
      "<class 'pandas.core.frame.DataFrame'>\n",
      "RangeIndex: 90811 entries, 0 to 90810\n",
      "Data columns (total 3 columns):\n",
      "parcelid           90811 non-null int64\n",
      "logerror           90811 non-null float64\n",
      "transactiondate    90811 non-null object\n",
      "dtypes: float64(1), int64(1), object(1)\n",
      "memory usage: 2.1+ MB\n"
     ]
    }
   ],
   "source": [
    "dfTrain2.info()"
   ]
  },
  {
   "cell_type": "code",
   "execution_count": 37,
   "metadata": {
    "collapsed": true
   },
   "outputs": [],
   "source": [
    "dfMerged2 = pd.merge(dfTrain, dfTrain2, on = \"parcelid\")"
   ]
  },
  {
   "cell_type": "code",
   "execution_count": 12,
   "metadata": {
    "collapsed": false
   },
   "outputs": [
    {
     "data": {
      "text/plain": [
       "0        2016-01-01\n",
       "1        2016-01-01\n",
       "2        2016-01-01\n",
       "3        2016-01-02\n",
       "4        2016-01-02\n",
       "5        2016-01-02\n",
       "6        2016-01-02\n",
       "7        2016-01-02\n",
       "8        2016-01-02\n",
       "9        2016-01-03\n",
       "10       2016-01-03\n",
       "11       2016-01-03\n",
       "12       2016-01-03\n",
       "13       2016-01-03\n",
       "14       2016-01-03\n",
       "15       2016-01-03\n",
       "16       2016-01-03\n",
       "17       2016-01-03\n",
       "18       2016-01-03\n",
       "19       2016-01-03\n",
       "20       2016-01-03\n",
       "21       2016-01-03\n",
       "22       2016-01-03\n",
       "23       2016-01-03\n",
       "24       2016-01-03\n",
       "25       2016-01-03\n",
       "26       2016-01-03\n",
       "27       2016-01-03\n",
       "28       2016-01-03\n",
       "29       2016-01-03\n",
       "            ...    \n",
       "90781    2016-12-30\n",
       "90782    2016-12-30\n",
       "90783    2016-12-30\n",
       "90784    2016-12-30\n",
       "90785    2016-12-30\n",
       "90786    2016-12-30\n",
       "90787    2016-12-30\n",
       "90788    2016-12-30\n",
       "90789    2016-12-30\n",
       "90790    2016-12-30\n",
       "90791    2016-12-30\n",
       "90792    2016-12-30\n",
       "90793    2016-12-30\n",
       "90794    2016-12-30\n",
       "90795    2016-12-30\n",
       "90796    2016-12-30\n",
       "90797    2016-12-30\n",
       "90798    2016-12-30\n",
       "90799    2016-12-30\n",
       "90800    2016-12-30\n",
       "90801    2016-12-30\n",
       "90802    2016-12-30\n",
       "90803    2016-12-30\n",
       "90804    2016-12-30\n",
       "90805    2016-12-30\n",
       "90806    2016-12-30\n",
       "90807    2016-12-30\n",
       "90808    2016-12-30\n",
       "90809    2016-12-30\n",
       "90810    2016-12-30\n",
       "Name: transactiondate, dtype: object"
      ]
     },
     "execution_count": 12,
     "metadata": {},
     "output_type": "execute_result"
    }
   ],
   "source": [
    "dfTrain2.transactiondate\n"
   ]
  },
  {
   "cell_type": "code",
   "execution_count": 14,
   "metadata": {
    "collapsed": false
   },
   "outputs": [
    {
     "name": "stdout",
     "output_type": "stream",
     "text": [
      "<class 'pandas.core.frame.DataFrame'>\n",
      "Int64Index: 90811 entries, 0 to 90810\n",
      "Data columns (total 60 columns):\n",
      "parcelid                        90811 non-null int64\n",
      "airconditioningtypeid           28781 non-null float64\n",
      "architecturalstyletypeid        261 non-null float64\n",
      "basementsqft                    43 non-null float64\n",
      "bathroomcnt                     90275 non-null float64\n",
      "bedroomcnt                      90275 non-null float64\n",
      "buildingclasstypeid             16 non-null float64\n",
      "buildingqualitytypeid           57364 non-null float64\n",
      "calculatedbathnbr               89093 non-null float64\n",
      "decktypeid                      658 non-null float64\n",
      "finishedfloor1squarefeet        6856 non-null float64\n",
      "calculatedfinishedsquarefeet    89614 non-null float64\n",
      "finishedsquarefeet12            85596 non-null float64\n",
      "finishedsquarefeet13            33 non-null float64\n",
      "finishedsquarefeet15            3564 non-null float64\n",
      "finishedsquarefeet50            6856 non-null float64\n",
      "finishedsquarefeet6             421 non-null float64\n",
      "fips                            90275 non-null float64\n",
      "fireplacecnt                    9607 non-null float64\n",
      "fullbathcnt                     89093 non-null float64\n",
      "garagecarcnt                    29937 non-null float64\n",
      "garagetotalsqft                 29937 non-null float64\n",
      "hashottuborspa                  2365 non-null object\n",
      "heatingorsystemtypeid           56080 non-null float64\n",
      "latitude                        90275 non-null float64\n",
      "longitude                       90275 non-null float64\n",
      "lotsizesquarefeet               80125 non-null float64\n",
      "poolcnt                         17901 non-null float64\n",
      "poolsizesum                     969 non-null float64\n",
      "pooltypeid10                    1161 non-null float64\n",
      "pooltypeid2                     1204 non-null float64\n",
      "pooltypeid7                     16697 non-null float64\n",
      "propertycountylandusecode       90274 non-null object\n",
      "propertylandusetypeid           90275 non-null float64\n",
      "propertyzoningdesc              58313 non-null object\n",
      "rawcensustractandblock          90275 non-null float64\n",
      "regionidcity                    88472 non-null float64\n",
      "regionidcounty                  90275 non-null float64\n",
      "regionidneighborhood            36012 non-null float64\n",
      "regionidzip                     90240 non-null float64\n",
      "roomcnt                         90275 non-null float64\n",
      "storytypeid                     43 non-null float64\n",
      "threequarterbathnbr             12009 non-null float64\n",
      "typeconstructiontypeid          299 non-null float64\n",
      "unitcnt                         58353 non-null float64\n",
      "yardbuildingsqft17              2646 non-null float64\n",
      "yardbuildingsqft26              95 non-null float64\n",
      "yearbuilt                       89519 non-null float64\n",
      "numberofstories                 20570 non-null float64\n",
      "fireplaceflag                   222 non-null object\n",
      "structuretaxvaluedollarcnt      89895 non-null float64\n",
      "taxvaluedollarcnt               90274 non-null float64\n",
      "assessmentyear                  90275 non-null float64\n",
      "landtaxvaluedollarcnt           90274 non-null float64\n",
      "taxamount                       90269 non-null float64\n",
      "taxdelinquencyflag              1783 non-null object\n",
      "taxdelinquencyyear              1783 non-null float64\n",
      "censustractandblock             89670 non-null float64\n",
      "logerror                        90811 non-null float64\n",
      "transactiondate                 90811 non-null object\n",
      "dtypes: float64(53), int64(1), object(6)\n",
      "memory usage: 42.3+ MB\n"
     ]
    }
   ],
   "source": [
    "dfMerged.info()"
   ]
  },
  {
   "cell_type": "code",
   "execution_count": 40,
   "metadata": {
    "collapsed": true
   },
   "outputs": [],
   "source": [
    "dfMerged2 = dfMerged2.fillna(-1)"
   ]
  },
  {
   "cell_type": "code",
   "execution_count": 16,
   "metadata": {
    "collapsed": false
   },
   "outputs": [
    {
     "name": "stdout",
     "output_type": "stream",
     "text": [
      "<class 'pandas.core.frame.DataFrame'>\n",
      "Int64Index: 90811 entries, 0 to 90810\n",
      "Data columns (total 60 columns):\n",
      "parcelid                        90811 non-null int64\n",
      "airconditioningtypeid           90811 non-null float64\n",
      "architecturalstyletypeid        90811 non-null float64\n",
      "basementsqft                    90811 non-null float64\n",
      "bathroomcnt                     90811 non-null float64\n",
      "bedroomcnt                      90811 non-null float64\n",
      "buildingclasstypeid             90811 non-null float64\n",
      "buildingqualitytypeid           90811 non-null float64\n",
      "calculatedbathnbr               90811 non-null float64\n",
      "decktypeid                      90811 non-null float64\n",
      "finishedfloor1squarefeet        90811 non-null float64\n",
      "calculatedfinishedsquarefeet    90811 non-null float64\n",
      "finishedsquarefeet12            90811 non-null float64\n",
      "finishedsquarefeet13            90811 non-null float64\n",
      "finishedsquarefeet15            90811 non-null float64\n",
      "finishedsquarefeet50            90811 non-null float64\n",
      "finishedsquarefeet6             90811 non-null float64\n",
      "fips                            90811 non-null float64\n",
      "fireplacecnt                    90811 non-null float64\n",
      "fullbathcnt                     90811 non-null float64\n",
      "garagecarcnt                    90811 non-null float64\n",
      "garagetotalsqft                 90811 non-null float64\n",
      "hashottuborspa                  90811 non-null object\n",
      "heatingorsystemtypeid           90811 non-null float64\n",
      "latitude                        90811 non-null float64\n",
      "longitude                       90811 non-null float64\n",
      "lotsizesquarefeet               90811 non-null float64\n",
      "poolcnt                         90811 non-null float64\n",
      "poolsizesum                     90811 non-null float64\n",
      "pooltypeid10                    90811 non-null float64\n",
      "pooltypeid2                     90811 non-null float64\n",
      "pooltypeid7                     90811 non-null float64\n",
      "propertycountylandusecode       90811 non-null object\n",
      "propertylandusetypeid           90811 non-null float64\n",
      "propertyzoningdesc              90811 non-null object\n",
      "rawcensustractandblock          90811 non-null float64\n",
      "regionidcity                    90811 non-null float64\n",
      "regionidcounty                  90811 non-null float64\n",
      "regionidneighborhood            90811 non-null float64\n",
      "regionidzip                     90811 non-null float64\n",
      "roomcnt                         90811 non-null float64\n",
      "storytypeid                     90811 non-null float64\n",
      "threequarterbathnbr             90811 non-null float64\n",
      "typeconstructiontypeid          90811 non-null float64\n",
      "unitcnt                         90811 non-null float64\n",
      "yardbuildingsqft17              90811 non-null float64\n",
      "yardbuildingsqft26              90811 non-null float64\n",
      "yearbuilt                       90811 non-null float64\n",
      "numberofstories                 90811 non-null float64\n",
      "fireplaceflag                   90811 non-null object\n",
      "structuretaxvaluedollarcnt      90811 non-null float64\n",
      "taxvaluedollarcnt               90811 non-null float64\n",
      "assessmentyear                  90811 non-null float64\n",
      "landtaxvaluedollarcnt           90811 non-null float64\n",
      "taxamount                       90811 non-null float64\n",
      "taxdelinquencyflag              90811 non-null object\n",
      "taxdelinquencyyear              90811 non-null float64\n",
      "censustractandblock             90811 non-null float64\n",
      "logerror                        90811 non-null float64\n",
      "transactiondate                 90811 non-null object\n",
      "dtypes: float64(53), int64(1), object(6)\n",
      "memory usage: 42.3+ MB\n"
     ]
    }
   ],
   "source": [
    "dfMerged.info()"
   ]
  },
  {
   "cell_type": "code",
   "execution_count": 17,
   "metadata": {
    "collapsed": true
   },
   "outputs": [],
   "source": [
    "colObjNames = list(dfMerged.select_dtypes(include=['object']).columns)"
   ]
  },
  {
   "cell_type": "code",
   "execution_count": 18,
   "metadata": {
    "collapsed": false
   },
   "outputs": [
    {
     "data": {
      "text/plain": [
       "['hashottuborspa',\n",
       " 'propertycountylandusecode',\n",
       " 'propertyzoningdesc',\n",
       " 'fireplaceflag',\n",
       " 'taxdelinquencyflag',\n",
       " 'transactiondate']"
      ]
     },
     "execution_count": 18,
     "metadata": {},
     "output_type": "execute_result"
    }
   ],
   "source": [
    "colObjNames"
   ]
  },
  {
   "cell_type": "code",
   "execution_count": 41,
   "metadata": {
    "collapsed": false
   },
   "outputs": [],
   "source": [
    "for s in colObjNames:\n",
    "    dfMerged2[s] = dfMerged2[s].astype('category').cat.codes.astype(float)"
   ]
  },
  {
   "cell_type": "code",
   "execution_count": 54,
   "metadata": {
    "collapsed": false
   },
   "outputs": [
    {
     "name": "stdout",
     "output_type": "stream",
     "text": [
      "<class 'pandas.core.frame.DataFrame'>\n",
      "Int64Index: 90811 entries, 0 to 90810\n",
      "Data columns (total 60 columns):\n",
      "parcelid                        90811 non-null int64\n",
      "airconditioningtypeid           90811 non-null float64\n",
      "architecturalstyletypeid        90811 non-null float64\n",
      "basementsqft                    90811 non-null float64\n",
      "bathroomcnt                     90811 non-null float64\n",
      "bedroomcnt                      90811 non-null float64\n",
      "buildingclasstypeid             90811 non-null float64\n",
      "buildingqualitytypeid           90811 non-null float64\n",
      "calculatedbathnbr               90811 non-null float64\n",
      "decktypeid                      90811 non-null float64\n",
      "finishedfloor1squarefeet        90811 non-null float64\n",
      "calculatedfinishedsquarefeet    90811 non-null float64\n",
      "finishedsquarefeet12            90811 non-null float64\n",
      "finishedsquarefeet13            90811 non-null float64\n",
      "finishedsquarefeet15            90811 non-null float64\n",
      "finishedsquarefeet50            90811 non-null float64\n",
      "finishedsquarefeet6             90811 non-null float64\n",
      "fips                            90811 non-null float64\n",
      "fireplacecnt                    90811 non-null float64\n",
      "fullbathcnt                     90811 non-null float64\n",
      "garagecarcnt                    90811 non-null float64\n",
      "garagetotalsqft                 90811 non-null float64\n",
      "hashottuborspa                  90811 non-null float64\n",
      "heatingorsystemtypeid           90811 non-null float64\n",
      "latitude                        90811 non-null float64\n",
      "longitude                       90811 non-null float64\n",
      "lotsizesquarefeet               90811 non-null float64\n",
      "poolcnt                         90811 non-null float64\n",
      "poolsizesum                     90811 non-null float64\n",
      "pooltypeid10                    90811 non-null float64\n",
      "pooltypeid2                     90811 non-null float64\n",
      "pooltypeid7                     90811 non-null float64\n",
      "propertycountylandusecode       90811 non-null float64\n",
      "propertylandusetypeid           90811 non-null float64\n",
      "propertyzoningdesc              90811 non-null float64\n",
      "rawcensustractandblock          90811 non-null float64\n",
      "regionidcity                    90811 non-null float64\n",
      "regionidcounty                  90811 non-null float64\n",
      "regionidneighborhood            90811 non-null float64\n",
      "regionidzip                     90811 non-null float64\n",
      "roomcnt                         90811 non-null float64\n",
      "storytypeid                     90811 non-null float64\n",
      "threequarterbathnbr             90811 non-null float64\n",
      "typeconstructiontypeid          90811 non-null float64\n",
      "unitcnt                         90811 non-null float64\n",
      "yardbuildingsqft17              90811 non-null float64\n",
      "yardbuildingsqft26              90811 non-null float64\n",
      "yearbuilt                       90811 non-null float64\n",
      "numberofstories                 90811 non-null float64\n",
      "fireplaceflag                   90811 non-null float64\n",
      "structuretaxvaluedollarcnt      90811 non-null float64\n",
      "taxvaluedollarcnt               90811 non-null float64\n",
      "assessmentyear                  90811 non-null float64\n",
      "landtaxvaluedollarcnt           90811 non-null float64\n",
      "taxamount                       90811 non-null float64\n",
      "taxdelinquencyflag              90811 non-null float64\n",
      "taxdelinquencyyear              90811 non-null float64\n",
      "censustractandblock             90811 non-null float64\n",
      "logerror                        90811 non-null float64\n",
      "transactiondate                 90811 non-null float64\n",
      "dtypes: float64(59), int64(1)\n",
      "memory usage: 42.3 MB\n"
     ]
    }
   ],
   "source": [
    "dfMerged2.info()"
   ]
  },
  {
   "cell_type": "code",
   "execution_count": 22,
   "metadata": {
    "collapsed": true
   },
   "outputs": [],
   "source": [
    "logErrors = dfMerged.logerror.values"
   ]
  },
  {
   "cell_type": "code",
   "execution_count": 23,
   "metadata": {
    "collapsed": true
   },
   "outputs": [],
   "source": [
    "transactiondateTestIds = dfMerged.transactiondate.values"
   ]
  },
  {
   "cell_type": "code",
   "execution_count": 25,
   "metadata": {
    "collapsed": false
   },
   "outputs": [],
   "source": [
    "parcelIds = dfMerged.parcelid.values"
   ]
  },
  {
   "cell_type": "code",
   "execution_count": 26,
   "metadata": {
    "collapsed": true
   },
   "outputs": [],
   "source": [
    "import xgboost as xgb"
   ]
  },
  {
   "cell_type": "code",
   "execution_count": 27,
   "metadata": {
    "collapsed": true
   },
   "outputs": [],
   "source": [
    "params = {}"
   ]
  },
  {
   "cell_type": "code",
   "execution_count": 44,
   "metadata": {
    "collapsed": true
   },
   "outputs": [],
   "source": [
    "drop_var = ['parcelid', 'logerror']\n",
    "dfTestData = dfTestData.drop(drop_var, axis = 1)"
   ]
  },
  {
   "cell_type": "code",
   "execution_count": 29,
   "metadata": {
    "collapsed": true
   },
   "outputs": [],
   "source": [
    "trainMatrix = xgb.DMatrix(dfMerged.as_matrix(), label = logErrors)"
   ]
  },
  {
   "cell_type": "code",
   "execution_count": 32,
   "metadata": {
    "collapsed": false
   },
   "outputs": [],
   "source": [
    "simpMod = xgb.train(params, trainMatrix, 300)"
   ]
  },
  {
   "cell_type": "code",
   "execution_count": 34,
   "metadata": {
    "collapsed": false
   },
   "outputs": [],
   "source": [
    "dfTest = pd.read_csv('sample_submission.csv')"
   ]
  },
  {
   "cell_type": "code",
   "execution_count": 35,
   "metadata": {
    "collapsed": true
   },
   "outputs": [],
   "source": [
    "testIds = dfTest.ParcelId.values"
   ]
  },
  {
   "cell_type": "code",
   "execution_count": 45,
   "metadata": {
    "collapsed": false
   },
   "outputs": [],
   "source": [
    "dfTestData = dfMerged2.loc[dfMerged2['parcelid'].isin(testIds)]"
   ]
  },
  {
   "cell_type": "code",
   "execution_count": 46,
   "metadata": {
    "collapsed": false
   },
   "outputs": [
    {
     "name": "stdout",
     "output_type": "stream",
     "text": [
      "<class 'pandas.core.frame.DataFrame'>\n",
      "Int64Index: 90811 entries, 0 to 90810\n",
      "Data columns (total 60 columns):\n",
      "parcelid                        90811 non-null int64\n",
      "airconditioningtypeid           90811 non-null float64\n",
      "architecturalstyletypeid        90811 non-null float64\n",
      "basementsqft                    90811 non-null float64\n",
      "bathroomcnt                     90811 non-null float64\n",
      "bedroomcnt                      90811 non-null float64\n",
      "buildingclasstypeid             90811 non-null float64\n",
      "buildingqualitytypeid           90811 non-null float64\n",
      "calculatedbathnbr               90811 non-null float64\n",
      "decktypeid                      90811 non-null float64\n",
      "finishedfloor1squarefeet        90811 non-null float64\n",
      "calculatedfinishedsquarefeet    90811 non-null float64\n",
      "finishedsquarefeet12            90811 non-null float64\n",
      "finishedsquarefeet13            90811 non-null float64\n",
      "finishedsquarefeet15            90811 non-null float64\n",
      "finishedsquarefeet50            90811 non-null float64\n",
      "finishedsquarefeet6             90811 non-null float64\n",
      "fips                            90811 non-null float64\n",
      "fireplacecnt                    90811 non-null float64\n",
      "fullbathcnt                     90811 non-null float64\n",
      "garagecarcnt                    90811 non-null float64\n",
      "garagetotalsqft                 90811 non-null float64\n",
      "hashottuborspa                  90811 non-null float64\n",
      "heatingorsystemtypeid           90811 non-null float64\n",
      "latitude                        90811 non-null float64\n",
      "longitude                       90811 non-null float64\n",
      "lotsizesquarefeet               90811 non-null float64\n",
      "poolcnt                         90811 non-null float64\n",
      "poolsizesum                     90811 non-null float64\n",
      "pooltypeid10                    90811 non-null float64\n",
      "pooltypeid2                     90811 non-null float64\n",
      "pooltypeid7                     90811 non-null float64\n",
      "propertycountylandusecode       90811 non-null float64\n",
      "propertylandusetypeid           90811 non-null float64\n",
      "propertyzoningdesc              90811 non-null float64\n",
      "rawcensustractandblock          90811 non-null float64\n",
      "regionidcity                    90811 non-null float64\n",
      "regionidcounty                  90811 non-null float64\n",
      "regionidneighborhood            90811 non-null float64\n",
      "regionidzip                     90811 non-null float64\n",
      "roomcnt                         90811 non-null float64\n",
      "storytypeid                     90811 non-null float64\n",
      "threequarterbathnbr             90811 non-null float64\n",
      "typeconstructiontypeid          90811 non-null float64\n",
      "unitcnt                         90811 non-null float64\n",
      "yardbuildingsqft17              90811 non-null float64\n",
      "yardbuildingsqft26              90811 non-null float64\n",
      "yearbuilt                       90811 non-null float64\n",
      "numberofstories                 90811 non-null float64\n",
      "fireplaceflag                   90811 non-null float64\n",
      "structuretaxvaluedollarcnt      90811 non-null float64\n",
      "taxvaluedollarcnt               90811 non-null float64\n",
      "assessmentyear                  90811 non-null float64\n",
      "landtaxvaluedollarcnt           90811 non-null float64\n",
      "taxamount                       90811 non-null float64\n",
      "taxdelinquencyflag              90811 non-null float64\n",
      "taxdelinquencyyear              90811 non-null float64\n",
      "censustractandblock             90811 non-null float64\n",
      "logerror                        90811 non-null float64\n",
      "transactiondate                 90811 non-null float64\n",
      "dtypes: float64(59), int64(1)\n",
      "memory usage: 42.3 MB\n"
     ]
    }
   ],
   "source": [
    "dfTestData.info()"
   ]
  },
  {
   "cell_type": "code",
   "execution_count": 48,
   "metadata": {
    "collapsed": false
   },
   "outputs": [],
   "source": [
    "logErrorTestLabels = dfTestData.logerror.values"
   ]
  },
  {
   "cell_type": "code",
   "execution_count": 49,
   "metadata": {
    "collapsed": true
   },
   "outputs": [],
   "source": [
    "parcelIdTestLabels = dfTestData.parcelid.values"
   ]
  },
  {
   "cell_type": "code",
   "execution_count": 56,
   "metadata": {
    "collapsed": true
   },
   "outputs": [],
   "source": [
    "validateMatrix = xgb.DMatrix(dfTestData.as_matrix(), label=logErrorTestLabels)"
   ]
  },
  {
   "cell_type": "code",
   "execution_count": 57,
   "metadata": {
    "collapsed": false
   },
   "outputs": [],
   "source": [
    "pred = simpMod.predict(validateMatrix)"
   ]
  },
  {
   "cell_type": "code",
   "execution_count": 55,
   "metadata": {
    "collapsed": true
   },
   "outputs": [],
   "source": [
    "dfTestData = dfTestData.drop(drop_var, axis=1)"
   ]
  },
  {
   "cell_type": "code",
   "execution_count": 58,
   "metadata": {
    "collapsed": false
   },
   "outputs": [
    {
     "name": "stdout",
     "output_type": "stream",
     "text": [
      "[ 0.02338299 -0.01152951 -0.0056091  ..., -0.09166956 -0.1170013\n",
      " -0.00370824]\n"
     ]
    }
   ],
   "source": [
    "print(pred)"
   ]
  },
  {
   "cell_type": "code",
   "execution_count": 59,
   "metadata": {
    "collapsed": true
   },
   "outputs": [],
   "source": [
    "transacdateTestLabels = dfTestData.transactiondate.values"
   ]
  },
  {
   "cell_type": "code",
   "execution_count": 61,
   "metadata": {
    "collapsed": false
   },
   "outputs": [
    {
     "data": {
      "text/plain": [
       "90682"
      ]
     },
     "execution_count": 61,
     "metadata": {},
     "output_type": "execute_result"
    }
   ],
   "source": [
    "len(np.unique(parcelIdTestLabels))"
   ]
  },
  {
   "cell_type": "code",
   "execution_count": 63,
   "metadata": {
    "collapsed": false
   },
   "outputs": [],
   "source": [
    "submissionPreProcc = np.column_stack((parcelIdTestLabels, logErrorTestLabels, transacdateTestLabels))"
   ]
  },
  {
   "cell_type": "code",
   "execution_count": 64,
   "metadata": {
    "collapsed": true
   },
   "outputs": [],
   "source": [
    "np.savetxt(\"submissionPreProcess.csv\", submissionPreProcc, delimiter = \",\")"
   ]
  },
  {
   "cell_type": "code",
   "execution_count": null,
   "metadata": {
    "collapsed": true
   },
   "outputs": [],
   "source": []
  }
 ],
 "metadata": {
  "kernelspec": {
   "display_name": "Python 2",
   "language": "python",
   "name": "python2"
  },
  "language_info": {
   "codemirror_mode": {
    "name": "ipython",
    "version": 2
   },
   "file_extension": ".py",
   "mimetype": "text/x-python",
   "name": "python",
   "nbconvert_exporter": "python",
   "pygments_lexer": "ipython2",
   "version": "2.7.13"
  }
 },
 "nbformat": 4,
 "nbformat_minor": 2
}
